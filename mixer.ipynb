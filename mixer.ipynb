{
 "cells": [
  {
   "cell_type": "code",
   "execution_count": null,
   "id": "df89a68b",
   "metadata": {},
   "outputs": [],
   "source": [
    "#빈칸 제거해야함\n",
    "#3000넘는거 없애야함\n",
    "#shape안맞는거 없애야함"
   ]
  },
  {
   "cell_type": "code",
   "execution_count": 1,
   "id": "3ef05cc8",
   "metadata": {},
   "outputs": [],
   "source": [
    "import librosa\n",
    "import numpy as np\n",
    "import matplotlib.pyplot as plt\n",
    "import IPython.display\n",
    "import librosa.display\n",
    "import cv2\n",
    "import pandas as pd\n",
    "import json\n",
    "import re\n",
    "from pandas import json_normalize\n",
    "import warnings\n",
    "\n",
    "warnings.filterwarnings(action='ignore') "
   ]
  },
  {
   "cell_type": "code",
   "execution_count": 2,
   "id": "1efa6491",
   "metadata": {
    "scrolled": true
   },
   "outputs": [],
   "source": [
    "with open('song_meta.json',encoding='UTF8') as f:\n",
    "    meta = json.load(f)\n",
    "\n",
    "meta = pd.DataFrame(meta)"
   ]
  },
  {
   "cell_type": "code",
   "execution_count": 3,
   "id": "f3d37993",
   "metadata": {},
   "outputs": [],
   "source": [
    "def Song_list(length1=int ,length2=int,length3=int):\n",
    "    for num in range(length1,length2):\n",
    "        k = np.load(f\"./arena_mel_2/arena_mel/{length3}/{num}.npy\")\n",
    "        if k.shape == (48,1876):\n",
    "            a = np.min(k)\n",
    "            a_list.append(a)\n",
    "            s_list.append(k)\n",
    "            continue\n",
    "        else:\n",
    "            print(num)\n",
    "            j.append(num)\n",
    "            pass"
   ]
  },
  {
   "cell_type": "code",
   "execution_count": 106,
   "id": "83dcc41c",
   "metadata": {},
   "outputs": [
    {
     "name": "stdout",
     "output_type": "stream",
     "text": [
      "53209\n",
      "53259\n",
      "53912\n"
     ]
    }
   ],
   "source": [
    "j = []\n",
    "a_list = []\n",
    "s_list = []\n",
    "Song_list(53000,54000,53)\n",
    "Song_array = np.stack(s_list, axis=0)\n",
    "\n",
    "#숫자 다음에 쉼표를 붙이면 튜플\n",
    "a = (1,)\n",
    "b = Song_array.shape\n",
    "c = b+a\n",
    "Song_array = Song_array.reshape(c)\n",
    "Song_array = Song_array + 100"
   ]
  },
  {
   "cell_type": "code",
   "execution_count": 107,
   "id": "c151a215",
   "metadata": {},
   "outputs": [],
   "source": [
    "meta_1 = meta[53000:54000]\n",
    "for i in j:\n",
    "    meta_1 = meta_1.drop(i,axis=0)\n",
    "\n",
    "meta_1 = meta_1.reset_index(drop=True)\n",
    "meta_1 = meta_1.drop(['song_gn_dtl_gnr_basket','issue_date','album_name','album_id','artist_id_basket',\n",
    "                    'artist_name_basket'],axis='columns')\n",
    "\n",
    "meta_1['test'] = ''\n",
    "for i in range(len(meta_1['song_gn_gnr_basket'])):\n",
    "    j = meta_1['song_gn_gnr_basket'][i]\n",
    "    for k in j:\n",
    "        meta_1['test'][i] = k\n",
    "    if j == '':\n",
    "        print(i)\n",
    "        continue\n",
    "        \n",
    "none = meta_1.index[meta_1['test']=='']\n",
    "for a in none:\n",
    "    meta_1 = meta_1.drop(a,axis=0)\n",
    "meta_1 = meta_1.reset_index(drop=True)\n",
    "        \n",
    "        \n",
    "meta_1['test_2']=''\n",
    "for i in range(len(meta_1)):\n",
    "    a = meta_1['test'][i]\n",
    "    meta_1['test_2'][i] = re.findall(r'\\d+',a)\n",
    "for i in range(len(meta_1['test_2'])):\n",
    "    meta_1['test_2'][i] = list(map(int, meta_1['test_2'][i]))\n",
    "for i in range(len(meta_1)):\n",
    "    a = meta_1['test_2'][i][0]\n",
    "    meta_1['test_2'][i]=a\n",
    "\n",
    "result_df = meta_1    \n",
    "\n",
    "delete0 = result_df.index[result_df['test_2']==1900]\n",
    "\n",
    "delete1 = result_df.index[result_df['test_2']==2000]\n",
    "\n",
    "delete2 = result_df.index[result_df['test_2']==2100]\n",
    "\n",
    "delete3 = result_df.index[result_df['test_2']==2200]\n",
    "\n",
    "delete4 = result_df.index[result_df['test_2']==2300]\n",
    "\n",
    "delete5 = result_df.index[result_df['test_2']==2400]\n",
    "\n",
    "delete6 = result_df.index[result_df['test_2']==2500]\n",
    "\n",
    "delete7 = result_df.index[result_df['test_2']==2600]\n",
    "\n",
    "delete8 = result_df.index[result_df['test_2']==2700]\n",
    "\n",
    "delete9 = result_df.index[result_df['test_2']==2800]\n",
    "\n",
    "delete10 = result_df.index[result_df['test_2']==2900]\n",
    "\n",
    "delete11 = result_df.index[result_df['test_2']==9000]\n",
    "\n",
    "delete12 = result_df.index[result_df['test_2']==3000]\n",
    "\n",
    "delete_all = []\n",
    "\n",
    "none = list(none)\n",
    "none.sort(reverse=True)\n",
    "none\n",
    "for i in none:\n",
    "    Song_array = np.delete(Song_array, i, axis=0)\n",
    "\n",
    "for i in range(0,13):\n",
    "    globals()['delete{}'.format(i)] = list(globals()['delete{}'.format(i)])\n",
    "\n",
    "delete_all = delete0+delete1+delete2+delete3+delete4+delete5+delete6+delete7+delete8+delete9+delete10+delete11+delete12    \n",
    "delete_all.sort(reverse=True)\n",
    "\n",
    "for a in delete_all:\n",
    "    meta_1 = meta_1.drop([a])\n",
    "meta_1 = meta_1.reset_index(drop=True)\n",
    "\n",
    "for i in delete_all:\n",
    "    Song_array = np.delete(Song_array, i, axis=0)"
   ]
  },
  {
   "cell_type": "code",
   "execution_count": 108,
   "id": "22bdb536",
   "metadata": {},
   "outputs": [
    {
     "data": {
      "text/plain": [
       "(907, 48, 1876, 1)"
      ]
     },
     "execution_count": 108,
     "metadata": {},
     "output_type": "execute_result"
    }
   ],
   "source": [
    "Song_array.shape"
   ]
  },
  {
   "cell_type": "code",
   "execution_count": 109,
   "id": "f5d40efa",
   "metadata": {},
   "outputs": [
    {
     "data": {
      "text/plain": [
       "907"
      ]
     },
     "execution_count": 109,
     "metadata": {},
     "output_type": "execute_result"
    }
   ],
   "source": [
    "len(meta_1)"
   ]
  },
  {
   "cell_type": "code",
   "execution_count": 110,
   "id": "5e349f3a",
   "metadata": {},
   "outputs": [],
   "source": [
    "np.save('./Song_array_53',Song_array)"
   ]
  },
  {
   "cell_type": "code",
   "execution_count": 111,
   "id": "6d04bbb9",
   "metadata": {
    "scrolled": true
   },
   "outputs": [],
   "source": [
    "meta_1.to_excel('./meta_53.xlsx', index=False)"
   ]
  },
  {
   "cell_type": "code",
   "execution_count": 44,
   "id": "18b498c6",
   "metadata": {},
   "outputs": [
    {
     "data": {
      "text/plain": [
       "17"
      ]
     },
     "execution_count": 44,
     "metadata": {},
     "output_type": "execute_result"
    }
   ],
   "source": [
    "len(pd.value_counts(meta_1['test_2']))"
   ]
  },
  {
   "cell_type": "code",
   "execution_count": 45,
   "id": "ac91471d",
   "metadata": {
    "scrolled": true
   },
   "outputs": [
    {
     "data": {
      "text/plain": [
       "900     84\n",
       "100     82\n",
       "1600    82\n",
       "1100    79\n",
       "1000    78\n",
       "1700    67\n",
       "1300    60\n",
       "1800    53\n",
       "1200    50\n",
       "600     43\n",
       "1500    41\n",
       "300     36\n",
       "800     30\n",
       "200     29\n",
       "1400    21\n",
       "400     20\n",
       "700     15\n",
       "Name: test_2, dtype: int64"
      ]
     },
     "execution_count": 45,
     "metadata": {},
     "output_type": "execute_result"
    }
   ],
   "source": [
    "pd.value_counts(meta_1['test_2'])"
   ]
  },
  {
   "cell_type": "code",
   "execution_count": 50,
   "id": "19ab3361",
   "metadata": {},
   "outputs": [],
   "source": [
    "# genre_gn_all = pd.read_json('genre_gn_all.json', typ = 'series')\n",
    "# # 장르코드 : gnr_code, 장르명 : gnr_name\n",
    "# genre_gn_all = pd.DataFrame(genre_gn_all, columns = ['gnr_name']).reset_index().rename(columns = {'index' : 'gnr_code'})\n",
    "# genre_gn_all"
   ]
  },
  {
   "cell_type": "code",
   "execution_count": 185,
   "id": "2700def3",
   "metadata": {},
   "outputs": [],
   "source": [
    "# plt.imshow(Song3)"
   ]
  },
  {
   "cell_type": "code",
   "execution_count": 184,
   "id": "b3378cce",
   "metadata": {},
   "outputs": [],
   "source": [
    "# np.savetxt('testSong3.out', Song3, delimiter=',')"
   ]
  },
  {
   "cell_type": "code",
   "execution_count": 183,
   "id": "bebe21b6",
   "metadata": {},
   "outputs": [],
   "source": [
    "# plt.figure(figsize=(20, 10))\n",
    "# librosa.display.specshow(librosa.power_to_db(Song3, ref=np.max), y_axis='mel', sr=16000, hop_length=256, x_axis='time')\n",
    "# plt.colorbar(format='%+2.0f dB')\n",
    "# plt.title('Mel-Spectrogram')\n",
    "# plt.tight_layout()\n",
    "# plt.savefig('./image/Mel-Spectrogram example.png')\n",
    "# plt.show()\n",
    "# #sr=16000인 이유는 애초에 생성할때 30초짜리를 16000"
   ]
  },
  {
   "cell_type": "code",
   "execution_count": null,
   "id": "2666b99b",
   "metadata": {},
   "outputs": [],
   "source": []
  }
 ],
 "metadata": {
  "kernelspec": {
   "display_name": "Python 3 (ipykernel)",
   "language": "python",
   "name": "python3"
  },
  "language_info": {
   "codemirror_mode": {
    "name": "ipython",
    "version": 3
   },
   "file_extension": ".py",
   "mimetype": "text/x-python",
   "name": "python",
   "nbconvert_exporter": "python",
   "pygments_lexer": "ipython3",
   "version": "3.8.12"
  }
 },
 "nbformat": 4,
 "nbformat_minor": 5
}
