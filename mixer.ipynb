{
 "cells": [
  {
   "cell_type": "code",
   "execution_count": 1,
   "id": "3ef05cc8",
   "metadata": {},
   "outputs": [],
   "source": [
    "import librosa\n",
    "import numpy as np\n",
    "import matplotlib.pyplot as plt\n",
    "import IPython.display\n",
    "import librosa.display\n",
    "import cv2\n",
    "import pandas as pd\n",
    "import json\n",
    "import re"
   ]
  },
  {
   "cell_type": "code",
   "execution_count": 5,
   "id": "83dcc41c",
   "metadata": {},
   "outputs": [],
   "source": [
    "name_list = []\n",
    "for i in range(50,54):\n",
    "    name = 'meta_'+str(i)\n",
    "    globals()[name] = pd.read_excel(f'./meta_{i}.xlsx')\n",
    "    name_list.append(name)"
   ]
  },
  {
   "cell_type": "code",
   "execution_count": 6,
   "id": "4e400c16",
   "metadata": {},
   "outputs": [
    {
     "data": {
      "text/html": [
       "<div>\n",
       "<style scoped>\n",
       "    .dataframe tbody tr th:only-of-type {\n",
       "        vertical-align: middle;\n",
       "    }\n",
       "\n",
       "    .dataframe tbody tr th {\n",
       "        vertical-align: top;\n",
       "    }\n",
       "\n",
       "    .dataframe thead th {\n",
       "        text-align: right;\n",
       "    }\n",
       "</style>\n",
       "<table border=\"1\" class=\"dataframe\">\n",
       "  <thead>\n",
       "    <tr style=\"text-align: right;\">\n",
       "      <th></th>\n",
       "      <th>song_name</th>\n",
       "      <th>song_gn_gnr_basket</th>\n",
       "      <th>id</th>\n",
       "      <th>test</th>\n",
       "      <th>test_2</th>\n",
       "    </tr>\n",
       "  </thead>\n",
       "  <tbody>\n",
       "    <tr>\n",
       "      <th>0</th>\n",
       "      <td>겨울의 온도</td>\n",
       "      <td>['GN0500', 'GN0600']</td>\n",
       "      <td>50000</td>\n",
       "      <td>GN0600</td>\n",
       "      <td>600</td>\n",
       "    </tr>\n",
       "    <tr>\n",
       "      <th>1</th>\n",
       "      <td>유리창에 그린 안녕</td>\n",
       "      <td>['GN0200']</td>\n",
       "      <td>50001</td>\n",
       "      <td>GN0200</td>\n",
       "      <td>200</td>\n",
       "    </tr>\n",
       "    <tr>\n",
       "      <th>2</th>\n",
       "      <td>Tchaikovsky: Violin Concerto In D Major, Op.35...</td>\n",
       "      <td>['GN1600']</td>\n",
       "      <td>50003</td>\n",
       "      <td>GN1600</td>\n",
       "      <td>1600</td>\n",
       "    </tr>\n",
       "    <tr>\n",
       "      <th>3</th>\n",
       "      <td>두산 베어스 락앤롤 (Doosan Bears Rock And Roll) (Feat....</td>\n",
       "      <td>['GN0600']</td>\n",
       "      <td>50004</td>\n",
       "      <td>GN0600</td>\n",
       "      <td>600</td>\n",
       "    </tr>\n",
       "    <tr>\n",
       "      <th>4</th>\n",
       "      <td>WOW</td>\n",
       "      <td>['GN2500', 'GN0200']</td>\n",
       "      <td>50005</td>\n",
       "      <td>GN0200</td>\n",
       "      <td>200</td>\n",
       "    </tr>\n",
       "    <tr>\n",
       "      <th>...</th>\n",
       "      <td>...</td>\n",
       "      <td>...</td>\n",
       "      <td>...</td>\n",
       "      <td>...</td>\n",
       "      <td>...</td>\n",
       "    </tr>\n",
       "    <tr>\n",
       "      <th>3548</th>\n",
       "      <td>좌절금지</td>\n",
       "      <td>['GN0500', 'GN0600']</td>\n",
       "      <td>53995</td>\n",
       "      <td>GN0600</td>\n",
       "      <td>600</td>\n",
       "    </tr>\n",
       "    <tr>\n",
       "      <th>3549</th>\n",
       "      <td>Lion Tamer</td>\n",
       "      <td>['GN1400']</td>\n",
       "      <td>53996</td>\n",
       "      <td>GN1400</td>\n",
       "      <td>1400</td>\n",
       "    </tr>\n",
       "    <tr>\n",
       "      <th>3550</th>\n",
       "      <td>영웅주의</td>\n",
       "      <td>['GN0100']</td>\n",
       "      <td>53997</td>\n",
       "      <td>GN0100</td>\n",
       "      <td>100</td>\n",
       "    </tr>\n",
       "    <tr>\n",
       "      <th>3551</th>\n",
       "      <td>Love ! (Feat. kenessi)</td>\n",
       "      <td>['GN0400']</td>\n",
       "      <td>53998</td>\n",
       "      <td>GN0400</td>\n",
       "      <td>400</td>\n",
       "    </tr>\n",
       "    <tr>\n",
       "      <th>3552</th>\n",
       "      <td>Close To Me</td>\n",
       "      <td>['GN1300']</td>\n",
       "      <td>53999</td>\n",
       "      <td>GN1300</td>\n",
       "      <td>1300</td>\n",
       "    </tr>\n",
       "  </tbody>\n",
       "</table>\n",
       "<p>3553 rows × 5 columns</p>\n",
       "</div>"
      ],
      "text/plain": [
       "                                              song_name    song_gn_gnr_basket  \\\n",
       "0                                                겨울의 온도  ['GN0500', 'GN0600']   \n",
       "1                                            유리창에 그린 안녕            ['GN0200']   \n",
       "2     Tchaikovsky: Violin Concerto In D Major, Op.35...            ['GN1600']   \n",
       "3     두산 베어스 락앤롤 (Doosan Bears Rock And Roll) (Feat....            ['GN0600']   \n",
       "4                                                   WOW  ['GN2500', 'GN0200']   \n",
       "...                                                 ...                   ...   \n",
       "3548                                               좌절금지  ['GN0500', 'GN0600']   \n",
       "3549                                         Lion Tamer            ['GN1400']   \n",
       "3550                                               영웅주의            ['GN0100']   \n",
       "3551                             Love ! (Feat. kenessi)            ['GN0400']   \n",
       "3552                                        Close To Me            ['GN1300']   \n",
       "\n",
       "         id    test  test_2  \n",
       "0     50000  GN0600     600  \n",
       "1     50001  GN0200     200  \n",
       "2     50003  GN1600    1600  \n",
       "3     50004  GN0600     600  \n",
       "4     50005  GN0200     200  \n",
       "...     ...     ...     ...  \n",
       "3548  53995  GN0600     600  \n",
       "3549  53996  GN1400    1400  \n",
       "3550  53997  GN0100     100  \n",
       "3551  53998  GN0400     400  \n",
       "3552  53999  GN1300    1300  \n",
       "\n",
       "[3553 rows x 5 columns]"
      ]
     },
     "execution_count": 6,
     "metadata": {},
     "output_type": "execute_result"
    }
   ],
   "source": [
    "meta_50_to_53 = pd.concat([meta_50,meta_51,meta_52,meta_53])\n",
    "meta_50_to_53 = meta_50_to_53.reset_index(drop=True)\n",
    "meta_50_to_53"
   ]
  },
  {
   "cell_type": "code",
   "execution_count": 7,
   "id": "159f434f",
   "metadata": {},
   "outputs": [],
   "source": [
    "meta_50_to_53.to_excel('./meta_50_to_53.xlsx', index=False)"
   ]
  },
  {
   "cell_type": "code",
   "execution_count": 8,
   "id": "44703cf2",
   "metadata": {},
   "outputs": [],
   "source": [
    "for i in range(50,54):\n",
    "    name = 'Song_array'+str(i)\n",
    "    globals()[name] = np.load(f'./Song_array_{i}.npy')"
   ]
  },
  {
   "cell_type": "code",
   "execution_count": 9,
   "id": "a2614322",
   "metadata": {},
   "outputs": [
    {
     "data": {
      "text/plain": [
       "(3553, 48, 1876, 1)"
      ]
     },
     "execution_count": 9,
     "metadata": {},
     "output_type": "execute_result"
    }
   ],
   "source": [
    "Song_array_50_to_53 = np.vstack([Song_array50,Song_array51,Song_array52,Song_array53])\n",
    "Song_array_50_to_53.shape"
   ]
  },
  {
   "cell_type": "code",
   "execution_count": null,
   "id": "205bfa70",
   "metadata": {},
   "outputs": [],
   "source": [
    "Song_array_50_to_53 = np.vstack([Song_array,Song_array16,\n",
    "                              Song_array17,Song_array18,Song_array19,])\n",
    "Song_array_35_to_19.shape"
   ]
  },
  {
   "cell_type": "code",
   "execution_count": null,
   "id": "0ccc8ca5",
   "metadata": {},
   "outputs": [],
   "source": [
    "Song_array_20_to_24 = np.vstack([Song_array20,Song_array21,Song_array22,Song_array23,Song_array24])\n",
    "Song_array_20_to_24.shape"
   ]
  },
  {
   "cell_type": "code",
   "execution_count": null,
   "id": "ec718b9a",
   "metadata": {},
   "outputs": [],
   "source": [
    "Song_array_25_to_29 = np.vstack([Song_array25,Song_array26,\n",
    "                              Song_array27,Song_array28,Song_array29,])\n",
    "Song_array_25_to_29.shape"
   ]
  },
  {
   "cell_type": "code",
   "execution_count": 10,
   "id": "5e349f3a",
   "metadata": {},
   "outputs": [],
   "source": [
    "np.save('./Song_array_50_to_53',Song_array_50_to_53)"
   ]
  }
 ],
 "metadata": {
  "kernelspec": {
   "display_name": "Python 3 (ipykernel)",
   "language": "python",
   "name": "python3"
  },
  "language_info": {
   "codemirror_mode": {
    "name": "ipython",
    "version": 3
   },
   "file_extension": ".py",
   "mimetype": "text/x-python",
   "name": "python",
   "nbconvert_exporter": "python",
   "pygments_lexer": "ipython3",
   "version": "3.8.12"
  }
 },
 "nbformat": 4,
 "nbformat_minor": 5
}
